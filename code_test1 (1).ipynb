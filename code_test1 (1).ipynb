{
  "nbformat": 4,
  "nbformat_minor": 0,
  "metadata": {
    "colab": {
      "provenance": []
    },
    "kernelspec": {
      "name": "python3",
      "display_name": "Python 3"
    },
    "language_info": {
      "name": "python"
    }
  },
  "cells": [
    {
      "cell_type": "code",
      "execution_count": 2,
      "metadata": {
        "colab": {
          "base_uri": "https://localhost:8080/"
        },
        "id": "U0aDPEWneYm2",
        "outputId": "4a467b82-3126-4c89-bda4-bd79b5b51a30"
      },
      "outputs": [
        {
          "output_type": "stream",
          "name": "stdout",
          "text": [
            "Guess the number between 1 and 100: 11\n",
            "Too low! Try again.\n",
            "Guess the number between 1 and 100: 12\n",
            "Too low! Try again.\n",
            "Guess the number between 1 and 100: 31\n",
            "Too low! Try again.\n",
            "Guess the number between 1 and 100: 51\n",
            "Too low! Try again.\n",
            "Guess the number between 1 and 100: 99\n",
            "Too high! Try again.\n",
            "Guess the number between 1 and 100: 80\n",
            "Too low! Try again.\n",
            "Guess the number between 1 and 100: 90\n",
            "Too low! Try again.\n",
            "Guess the number between 1 and 100: 91\n",
            "Too low! Try again.\n",
            "Guess the number between 1 and 100: 95\n",
            "Too high! Try again.\n",
            "Guess the number between 1 and 100: 93\n",
            "Congratulations! You guessed the correct number.\n"
          ]
        }
      ],
      "source": [
        "import random\n",
        "\n",
        "def guess_the_number():\n",
        "    secret_number = random.randint(1, 100)\n",
        "    while True:\n",
        "        try:\n",
        "            user_guess = int(input(\"Guess the number between 1 and 100: \"))\n",
        "        except ValueError:\n",
        "            print(\"Invalid input! Please enter a valid integer.\")\n",
        "            continue\n",
        "\n",
        "        if user_guess == secret_number:\n",
        "            print(\"Congratulations! You guessed the correct number.\")\n",
        "            break\n",
        "        elif user_guess < secret_number:\n",
        "            print(\"Too low! Try again.\")\n",
        "        else:\n",
        "            print(\"Too high! Try again.\")\n",
        "\n",
        "if __name__ == \"__main__\":\n",
        "    guess_the_number()"
      ]
    },
    {
      "cell_type": "code",
      "source": [],
      "metadata": {
        "id": "R0F9u-2oebRq"
      },
      "execution_count": null,
      "outputs": []
    }
  ]
}